{
 "cells": [
  {
   "cell_type": "code",
   "execution_count": 1,
   "id": "936e879cf0513385",
   "metadata": {
    "collapsed": false,
    "ExecuteTime": {
     "end_time": "2024-11-20T04:07:57.170319Z",
     "start_time": "2024-11-20T04:07:56.540961Z"
    }
   },
   "outputs": [],
   "source": [
    "from perfeed.tools.pr_summarizer import PRSummarizer\n",
    "from perfeed.git_providers.github import GithubProvider\n",
    "from perfeed.llms.ollama_client import OllamaClient\n",
    "from perfeed.tools.weekly_summarizer import WeeklySummarizer\n",
    "from perfeed.llms.openai_client import OpenAIClient\n",
    "from perfeed.data_stores import FeatherStorage\n",
    "import asyncio\n",
    "import nest_asyncio\n",
    "nest_asyncio.apply()"
   ]
  },
  {
   "cell_type": "code",
   "execution_count": 2,
   "id": "348b50e03fb32243",
   "metadata": {
    "collapsed": false,
    "ExecuteTime": {
     "end_time": "2024-11-20T04:07:57.172936Z",
     "start_time": "2024-11-20T04:07:57.171207Z"
    }
   },
   "outputs": [],
   "source": [
    "# User Setup\n",
    "organization_name = \"Perfeed\"\n",
    "repo_name = \"perfeed\"\n",
    "users = [\"jzxcd\"]  # github account id\n",
    "start_of_week = \"2024-10-21\"\n",
    "model = \"llama3.1\" # optional if a desired model needed"
   ]
  },
  {
   "cell_type": "code",
   "execution_count": 3,
   "id": "initial_id",
   "metadata": {
    "collapsed": true,
    "jupyter": {
     "outputs_hidden": true
    },
    "ExecuteTime": {
     "end_time": "2024-11-20T04:07:57.197110Z",
     "start_time": "2024-11-20T04:07:57.173595Z"
    }
   },
   "outputs": [],
   "source": [
    "# llm = OllamaClient() # model default to be llama3.1\n",
    "llm = OpenAIClient()  # model default to be gpt-4o-mini\n",
    "git = GithubProvider(organization_name)\n",
    "store = FeatherStorage(data_type=\"pr_summary\", overwrite=False, append=True)\n",
    "summarizer = PRSummarizer(git=git, llm=llm, store=store)"
   ]
  },
  {
   "cell_type": "code",
   "execution_count": 4,
   "id": "13af1e985b72578e",
   "metadata": {
    "collapsed": false,
    "ExecuteTime": {
     "end_time": "2024-11-20T04:08:02.407122Z",
     "start_time": "2024-11-20T04:07:57.198020Z"
    }
   },
   "outputs": [
    {
     "name": "stderr",
     "output_type": "stream",
     "text": [
      "\u001B[32m2024-11-19 20:07:57.198\u001B[0m | \u001B[1mINFO    \u001B[0m | \u001B[36mperfeed.tools.weekly_summarizer\u001B[0m:\u001B[36mrun\u001B[0m:\u001B[36m38\u001B[0m - \u001B[1mSummarizing perfeed for ['jzxcd'] from 2024-10-21 00:00:00-07:00 to 2024-10-27 00:00:00-07:00\u001B[0m\n",
      "\u001B[32m2024-11-19 20:07:58.071\u001B[0m | \u001B[1mINFO    \u001B[0m | \u001B[36mperfeed.tools.weekly_summarizer\u001B[0m:\u001B[36mrun\u001B[0m:\u001B[36m48\u001B[0m - \u001B[1mSummarizing the following PR-[14, 13]\u001B[0m\n",
      "\u001B[32m2024-11-19 20:07:58.073\u001B[0m | \u001B[1mINFO    \u001B[0m | \u001B[36mperfeed.tools.pr_summarizer\u001B[0m:\u001B[36mrun\u001B[0m:\u001B[36m29\u001B[0m - \u001B[1mSummarizing perfeed#14\u001B[0m\n",
      "\u001B[32m2024-11-19 20:07:58.086\u001B[0m | \u001B[1mINFO    \u001B[0m | \u001B[36mperfeed.tools.pr_summarizer\u001B[0m:\u001B[36mrun\u001B[0m:\u001B[36m50\u001B[0m - \u001B[1mLoaded perfeed#14 from store\u001B[0m\n",
      "\u001B[32m2024-11-19 20:07:58.087\u001B[0m | \u001B[1mINFO    \u001B[0m | \u001B[36mperfeed.tools.pr_summarizer\u001B[0m:\u001B[36mrun\u001B[0m:\u001B[36m29\u001B[0m - \u001B[1mSummarizing perfeed#13\u001B[0m\n",
      "\u001B[32m2024-11-19 20:07:58.091\u001B[0m | \u001B[1mINFO    \u001B[0m | \u001B[36mperfeed.tools.pr_summarizer\u001B[0m:\u001B[36mrun\u001B[0m:\u001B[36m50\u001B[0m - \u001B[1mLoaded perfeed#13 from store\u001B[0m\n",
      "\u001B[32m2024-11-19 20:07:58.092\u001B[0m | \u001B[1mINFO    \u001B[0m | \u001B[36mperfeed.tools.weekly_summarizer\u001B[0m:\u001B[36mrun\u001B[0m:\u001B[36m62\u001B[0m - \u001B[1mSummarized 2 PRs in 0.89343 seconds\u001B[0m\n"
     ]
    },
    {
     "data": {
      "text/plain": "<IPython.core.display.Markdown object>",
      "text/markdown": "This week, the team merged 2 PRs focused on enhancing the data storage capabilities of the application.\n\nOverview:\n- Both PRs introduced a new data storage system that supports both Feather and SQL databases. The implementation includes functionality for saving and loading PR summaries, validation, and dataframe conversion capabilities. A base storage class and specific handlers for each storage type were also created.\n\nSignificant Changes:\n- Introduced a new data storage system with:\n  - **BaseStorage class**: An abstract base class for storage handlers with validation logic.\n  - **FeatherStorage class**: A handler for Feather format with save and load methods.\n  - **SQLStorage class**: A handler for SQL databases with save and load methods.\n  - Enhanced the PR summarizer to return both PR summary and metadata.\n\nRefactors/Architecture:\n- Created an initialization file for the data stores module.\n- Updated the PR summarizer to accommodate the new data model for PR summary metadata.\n\nReview Process:\n- Discussions included the necessity of keeping the async nature of the run method, with suggestions from chihangwang and clarifications provided by jzxcd regarding the PR summarizer's functionality.\n- There was an inquiry about the purpose of the PRSummaryMetadata class, which was clarified, leading to no immediate action but a suggestion for improved documentation.\n- The necessity of the provider attribute in the OllamaClient was debated, resulting in a decision to retain it for tracking model iterations.\n- Both PRs were merged after addressing feedback, showcasing effective collaboration and thorough review."
     },
     "metadata": {},
     "output_type": "display_data"
    }
   ],
   "source": [
    "weekly_summarizer = WeeklySummarizer(git=git, summarizer=summarizer, llm=llm)\n",
    "asyncio.run(\n",
    "    weekly_summarizer.run(\n",
    "        users=users,\n",
    "        repo_name=repo_name,\n",
    "        start_of_week=start_of_week,\n",
    "    )\n",
    ")"
   ]
  }
 ],
 "metadata": {
  "kernelspec": {
   "display_name": "Python 3 (ipykernel)",
   "language": "python",
   "name": "python3"
  },
  "language_info": {
   "codemirror_mode": {
    "name": "ipython",
    "version": 3
   },
   "file_extension": ".py",
   "mimetype": "text/x-python",
   "name": "python",
   "nbconvert_exporter": "python",
   "pygments_lexer": "ipython3",
   "version": "3.12.4"
  }
 },
 "nbformat": 4,
 "nbformat_minor": 5
}
