{
 "cells": [
  {
   "cell_type": "code",
   "execution_count": 5,
   "id": "936e879cf0513385",
   "metadata": {
    "collapsed": false,
    "ExecuteTime": {
     "end_time": "2024-11-20T03:29:22.852691Z",
     "start_time": "2024-11-20T03:29:22.849742Z"
    }
   },
   "outputs": [],
   "source": [
    "from perfeed.tools.pr_summarizer import PRSummarizer\n",
    "from perfeed.git_providers.github import GithubProvider\n",
    "from perfeed.llms.ollama_client import OllamaClient\n",
    "from perfeed.tools.weekly_summarizer import WeeklySummarizer\n",
    "from perfeed.llms.openai_client import OpenAIClient\n",
    "from perfeed.data_stores import FeatherStorage\n",
    "import asyncio\n",
    "import nest_asyncio\n",
    "nest_asyncio.apply()"
   ]
  },
  {
   "cell_type": "code",
   "execution_count": 6,
   "id": "348b50e03fb32243",
   "metadata": {
    "collapsed": false,
    "ExecuteTime": {
     "end_time": "2024-11-20T03:29:23.095236Z",
     "start_time": "2024-11-20T03:29:23.093081Z"
    }
   },
   "outputs": [],
   "source": [
    "# User Setup\n",
    "organization_name = \"Perfeed\"\n",
    "repo_name = \"perfeed\"\n",
    "users = [\"jzxcd\"]\n",
    "start_of_week = \"2024-10-21\"\n",
    "model_name = \"llama3.1\""
   ]
  },
  {
   "cell_type": "code",
   "execution_count": 7,
   "id": "initial_id",
   "metadata": {
    "collapsed": true,
    "jupyter": {
     "outputs_hidden": true
    },
    "ExecuteTime": {
     "end_time": "2024-11-20T03:29:23.354025Z",
     "start_time": "2024-11-20T03:29:23.332803Z"
    }
   },
   "outputs": [],
   "source": [
    "llm = OllamaClient(model_name)\n",
    "git = GithubProvider(organization_name)\n",
    "store = FeatherStorage(data_type=\"pr_summary\", overwrite=False, append=True)\n",
    "summarizer = PRSummarizer(git=git, llm=llm, store=store)"
   ]
  },
  {
   "cell_type": "code",
   "execution_count": 8,
   "id": "13af1e985b72578e",
   "metadata": {
    "collapsed": false,
    "ExecuteTime": {
     "end_time": "2024-11-20T03:30:25.060416Z",
     "start_time": "2024-11-20T03:29:23.953647Z"
    }
   },
   "outputs": [
    {
     "name": "stderr",
     "output_type": "stream",
     "text": [
      "\u001B[32m2024-11-19 19:29:23.955\u001B[0m | \u001B[1mINFO    \u001B[0m | \u001B[36mperfeed.tools.weekly_summarizer\u001B[0m:\u001B[36mrun\u001B[0m:\u001B[36m38\u001B[0m - \u001B[1mSummarizing perfeed for ['jzxcd'] from 2024-10-21 00:00:00-07:00 to 2024-10-27 00:00:00-07:00\u001B[0m\n",
      "\u001B[32m2024-11-19 19:29:24.742\u001B[0m | \u001B[1mINFO    \u001B[0m | \u001B[36mperfeed.tools.weekly_summarizer\u001B[0m:\u001B[36mrun\u001B[0m:\u001B[36m48\u001B[0m - \u001B[1mSummarizing the following PR-[14, 13]\u001B[0m\n",
      "\u001B[32m2024-11-19 19:29:24.743\u001B[0m | \u001B[1mINFO    \u001B[0m | \u001B[36mperfeed.tools.pr_summarizer\u001B[0m:\u001B[36mrun\u001B[0m:\u001B[36m29\u001B[0m - \u001B[1mSummarizing perfeed#14\u001B[0m\n",
      "\u001B[32m2024-11-19 19:29:24.760\u001B[0m | \u001B[1mINFO    \u001B[0m | \u001B[36mperfeed.tools.pr_summarizer\u001B[0m:\u001B[36mrun\u001B[0m:\u001B[36m50\u001B[0m - \u001B[1mLoaded perfeed#14 from store\u001B[0m\n",
      "\u001B[32m2024-11-19 19:29:24.760\u001B[0m | \u001B[1mINFO    \u001B[0m | \u001B[36mperfeed.tools.pr_summarizer\u001B[0m:\u001B[36mrun\u001B[0m:\u001B[36m29\u001B[0m - \u001B[1mSummarizing perfeed#13\u001B[0m\n",
      "\u001B[32m2024-11-19 19:29:24.763\u001B[0m | \u001B[1mINFO    \u001B[0m | \u001B[36mperfeed.tools.pr_summarizer\u001B[0m:\u001B[36mrun\u001B[0m:\u001B[36m50\u001B[0m - \u001B[1mLoaded perfeed#13 from store\u001B[0m\n",
      "\u001B[32m2024-11-19 19:29:24.764\u001B[0m | \u001B[1mINFO    \u001B[0m | \u001B[36mperfeed.tools.weekly_summarizer\u001B[0m:\u001B[36mrun\u001B[0m:\u001B[36m62\u001B[0m - \u001B[1mSummarized 2 PRs in 0.80747 seconds\u001B[0m\n"
     ]
    },
    {
     "data": {
      "text/plain": "<IPython.core.display.Markdown object>",
      "text/markdown": "Here's the summary of the pull requests:\n\n**Overview**\nJohn merged 2 PRs this week - one is a documentary/bug fix and the other one is a feature enhancement.\n\n### Significant Changes\n- **Bug Fix**: updated PRSummarizer for correct return types across the codebase.\n- **Enhancement**: Added BaseGitProvider to enable support for multiple implementations beyond GitHub and refactored the GitHubProvider to use asynchronous calls for improved concurrency.\n\n### Refactors/Architecture\n- Deprecated the get_patch method in favor of direct API calls to diff_url.\n- Removed an unused GithubProvider class, streamlining the architecture.\n\n### Review Process\n- For the bug fix, colb157 suggested adding a docstring to the renamed PRSummary class. This was implemented, improving clarity for future developers.\n- For the enhancement, there was a request from luizz44 to split the async refactor and the addition of the base provider into separate PRs for easier review. The author successfully declined this ask, justifying that the changes were tightly coupled and provided adequate testing documentation to support the combined PR.\n- Both PRs were merged within ~12 hours and ~27 hours of submission after addressing feedback.\n\n---\n\n**PR 1: Datastore**\n\n### Overview\nAdded support for feather and SQL DB storage. Also added save and load functionality.\n\n### Significant Changes\n- Added BaseStorage class to perfeed/data_stores, enabling extensibility.\n- Added FeatherStorage and SQLStorage classes to perfeed/data_stores, supporting multiple implementations.\n- Refactored API handler logic to separate concerns, improving maintainability.\n\n### Related Files\n- Modified .gitignore to include _data.\n- Updated perfeed/data_stores/__init__.py to include __init__.py file for data stores module.\n- Added main function to perfeed/data_stores/main.py.\n\n### Review Process\n- Discussion about keeping async function and using PRSummarizer.run() to invoke it led to a code change, where the async function was kept and PRSummarizer.run() was used to invoke it.\n- Discussion about the purpose of PRSummaryMetadata class led to a code change, where the PRSummaryMetadata class was added.\n- Discussion about the need for self.provider in OllamaClient class led to a code change, where self.provider was added to OllamaClient class.\n- Discussion about the need for DataStore class led to a code change, where the DataStore class was removed.\n- Discussion about the return type of load function led to a code change, where the return type of load function was changed.\n\n---\n\n**PR 2: Datastore**\n\n### Overview\nAdded support for feather and SQL DB storage. Also added save and load functionality.\n\n### Significant Changes\n- Added BaseStorage class to perfeed/data_stores, enabling extensibility.\n- Added FeatherStorage and SQLStorage classes to perfeed/data_stores, supporting multiple implementations.\n- Refactored API handler logic to separate concerns, improving maintainability.\n\n### Related Files\n- Modified .gitignore to include _data.\n- Updated perfeed/data_stores/__init__.py to include __init__.py file for data stores module.\n- Added main function to perfeed/data_stores/main.py.\n\n### Review Process\n- Discussion about keeping async function and using PRSummarizer.run() to invoke it led to a code change, where the async function was kept and PRSummarizer.run() was used to invoke it.\n- Discussion about the purpose of PRSummaryMetadata class led to a code change, where the PRSummaryMetadata class was added.\n- Discussion about the need for self.provider in OllamaClient class led to a code change, where self.provider was added to OllamaClient class.\n- Discussion about the need for DataStore class led to a code change, where the DataStore class was removed.\n- Discussion about the return type of load function led to a code change, where the return type of load function was changed.\n\n---\n\nNote: The above summary is based on the provided PRSummary data. If there are any discrepancies or inaccuracies, please let me know and I'll be happy to correct them."
     },
     "metadata": {},
     "output_type": "display_data"
    }
   ],
   "source": [
    "weekly_summarizer = WeeklySummarizer(git=git, summarizer=summarizer, llm=llm)\n",
    "asyncio.run(\n",
    "    weekly_summarizer.run(\n",
    "        users=users,\n",
    "        repo_name=repo_name,\n",
    "        start_of_week=start_of_week,\n",
    "    )\n",
    ")"
   ]
  },
  {
   "cell_type": "code",
   "execution_count": null,
   "id": "b1d4196e892f8f59",
   "metadata": {
    "collapsed": false
   },
   "outputs": [],
   "source": []
  }
 ],
 "metadata": {
  "kernelspec": {
   "display_name": "Python 3 (ipykernel)",
   "language": "python",
   "name": "python3"
  },
  "language_info": {
   "codemirror_mode": {
    "name": "ipython",
    "version": 3
   },
   "file_extension": ".py",
   "mimetype": "text/x-python",
   "name": "python",
   "nbconvert_exporter": "python",
   "pygments_lexer": "ipython3",
   "version": "3.12.4"
  }
 },
 "nbformat": 4,
 "nbformat_minor": 5
}
