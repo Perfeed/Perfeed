{
 "cells": [
  {
   "cell_type": "code",
   "execution_count": 1,
   "id": "936e879cf0513385",
   "metadata": {
    "collapsed": false,
    "ExecuteTime": {
     "end_time": "2024-11-20T03:51:04.096997Z",
     "start_time": "2024-11-20T03:51:03.383456Z"
    }
   },
   "outputs": [],
   "source": [
    "from perfeed.tools.pr_summarizer import PRSummarizer\n",
    "from perfeed.git_providers.github import GithubProvider\n",
    "from perfeed.llms.ollama_client import OllamaClient\n",
    "from perfeed.tools.weekly_summarizer import WeeklySummarizer\n",
    "from perfeed.llms.openai_client import OpenAIClient\n",
    "from perfeed.data_stores import FeatherStorage\n",
    "import asyncio\n",
    "import nest_asyncio\n",
    "nest_asyncio.apply()"
   ]
  },
  {
   "cell_type": "code",
   "execution_count": 2,
   "id": "348b50e03fb32243",
   "metadata": {
    "collapsed": false,
    "ExecuteTime": {
     "end_time": "2024-11-20T03:51:04.099540Z",
     "start_time": "2024-11-20T03:51:04.097772Z"
    }
   },
   "outputs": [],
   "source": [
    "# User Setup\n",
    "organization_name = \"Perfeed\"\n",
    "repo_name = \"perfeed\"\n",
    "users = [\"jzxcd\"]\n",
    "start_of_week = \"2024-10-21\"\n",
    "model_name = \"llama3.1\""
   ]
  },
  {
   "cell_type": "code",
   "execution_count": 3,
   "id": "initial_id",
   "metadata": {
    "collapsed": true,
    "jupyter": {
     "outputs_hidden": true
    },
    "ExecuteTime": {
     "end_time": "2024-11-20T03:51:05.670123Z",
     "start_time": "2024-11-20T03:51:05.623628Z"
    }
   },
   "outputs": [],
   "source": [
    "# llm = OllamaClient() # model default to be llama3.1\n",
    "llm = OpenAIClient()  # model default to be gpt-4o-mini\n",
    "git = GithubProvider(organization_name)\n",
    "store = FeatherStorage(data_type=\"pr_summary\", overwrite=False, append=True)\n",
    "summarizer = PRSummarizer(git=git, llm=llm, store=store)"
   ]
  },
  {
   "cell_type": "code",
   "execution_count": 4,
   "id": "13af1e985b72578e",
   "metadata": {
    "collapsed": false,
    "ExecuteTime": {
     "end_time": "2024-11-20T03:51:39.643747Z",
     "start_time": "2024-11-20T03:51:10.264593Z"
    }
   },
   "outputs": [
    {
     "name": "stderr",
     "output_type": "stream",
     "text": [
      "\u001B[32m2024-11-19 19:51:10.266\u001B[0m | \u001B[1mINFO    \u001B[0m | \u001B[36mperfeed.tools.weekly_summarizer\u001B[0m:\u001B[36mrun\u001B[0m:\u001B[36m38\u001B[0m - \u001B[1mSummarizing perfeed for ['jzxcd'] from 2024-10-21 00:00:00-07:00 to 2024-10-27 00:00:00-07:00\u001B[0m\n",
      "\u001B[32m2024-11-19 19:51:11.055\u001B[0m | \u001B[1mINFO    \u001B[0m | \u001B[36mperfeed.tools.weekly_summarizer\u001B[0m:\u001B[36mrun\u001B[0m:\u001B[36m48\u001B[0m - \u001B[1mSummarizing the following PR-[14, 13]\u001B[0m\n",
      "\u001B[32m2024-11-19 19:51:11.056\u001B[0m | \u001B[1mINFO    \u001B[0m | \u001B[36mperfeed.tools.pr_summarizer\u001B[0m:\u001B[36mrun\u001B[0m:\u001B[36m29\u001B[0m - \u001B[1mSummarizing perfeed#14\u001B[0m\n",
      "\u001B[32m2024-11-19 19:51:11.069\u001B[0m | \u001B[1mINFO    \u001B[0m | \u001B[36mperfeed.tools.pr_summarizer\u001B[0m:\u001B[36mrun\u001B[0m:\u001B[36m29\u001B[0m - \u001B[1mSummarizing perfeed#13\u001B[0m\n",
      "\u001B[32m2024-11-19 19:51:33.406\u001B[0m | \u001B[1mINFO    \u001B[0m | \u001B[36mperfeed.tools.weekly_summarizer\u001B[0m:\u001B[36mrun\u001B[0m:\u001B[36m62\u001B[0m - \u001B[1mSummarized 2 PRs in 23.13765 seconds\u001B[0m\n"
     ]
    },
    {
     "data": {
      "text/plain": "<IPython.core.display.Markdown object>",
      "text/markdown": "This week, the team merged 2 PRs focused on enhancements to the data storage and PR summarization functionalities.\n\nOverview:\n- The first PR introduced a new data storage system that supports both Feather and SQL databases, allowing for the saving and loading of PR summaries with validation and dataframe conversion capabilities. The second PR enhanced the `pr_summarizer` by implementing asynchronous execution and improving JSON output formatting.\n\n---\n\nSignificant Changes:\n- **Data Storage Enhancement**: \n  - Introduced a new base storage class and specific handlers for Feather and SQL databases.\n  - Added functionality for saving and loading PR summaries, along with a new data model for PR summary metadata.\n- **PR Summarizer Enhancement**: \n  - Updated the `PRSummarizer` class to support asynchronous execution.\n  - Improved JSON output handling through the introduction of a new utility function.\n\n---\n\nRefactors/Architecture:\n- Created an abstract base class for storage handlers, enhancing the modularity of the data storage system.\n- Restructured utility functions in the `pr_summarizer` to include a dedicated JSON output curator, improving code organization and clarity.\n\n---\n\nReview Process:\n- In the first PR, discussions arose regarding the async nature of the `run` method, leading to clarifications on its implementation. Additionally, the necessity of the `PRSummaryMetadata` class was questioned, but no immediate action was required as documentation was suggested.\n- The second PR did not have any comments or discussions, indicating a smooth review process.\n- Both PRs were merged after addressing feedback, showcasing effective collaboration and timely integration of enhancements."
     },
     "metadata": {},
     "output_type": "display_data"
    }
   ],
   "source": [
    "weekly_summarizer = WeeklySummarizer(git=git, summarizer=summarizer, llm=llm)\n",
    "asyncio.run(\n",
    "    weekly_summarizer.run(\n",
    "        users=users,\n",
    "        repo_name=repo_name,\n",
    "        start_of_week=start_of_week,\n",
    "    )\n",
    ")"
   ]
  },
  {
   "cell_type": "code",
   "outputs": [],
   "source": [],
   "metadata": {
    "collapsed": false
   },
   "id": "1587288675319d8b"
  }
 ],
 "metadata": {
  "kernelspec": {
   "display_name": "Python 3 (ipykernel)",
   "language": "python",
   "name": "python3"
  },
  "language_info": {
   "codemirror_mode": {
    "name": "ipython",
    "version": 3
   },
   "file_extension": ".py",
   "mimetype": "text/x-python",
   "name": "python",
   "nbconvert_exporter": "python",
   "pygments_lexer": "ipython3",
   "version": "3.12.4"
  }
 },
 "nbformat": 4,
 "nbformat_minor": 5
}
